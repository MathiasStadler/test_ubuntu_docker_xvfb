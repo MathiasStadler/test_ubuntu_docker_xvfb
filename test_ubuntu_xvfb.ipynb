{
 "cells": [
  {
   "cell_type": "markdown",
   "metadata": {},
   "source": [
    "# Test xvfb on ubuntu"
   ]
  },
  {
   "cell_type": "markdown",
   "metadata": {},
   "source": [
    "- [what is xvfb](https://www.geeksforgeeks.org/how-to-install-xvfb-on-ubuntu/)\n",
    "\n",
    "The Linux/Unix operating system is designed for use with the X virtual framebuffer, often known as Xvfb. By attaching an input device, you can run graphical applications without a monitor. The software can operate headlessly and execute graphic operations in virtual memory. It was created specifically for Linux systems, and in this tutorial, we’ll go through how to install and use it on Ubuntu (Linux OS).  "
   ]
  }
 ],
 "metadata": {
  "kernelspec": {
   "display_name": "Rust",
   "language": "rust",
   "name": "rust"
  },
  "language_info": {
   "name": "rust"
  }
 },
 "nbformat": 4,
 "nbformat_minor": 2
}
